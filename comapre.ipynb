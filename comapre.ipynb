{
 "cells": [
  {
   "cell_type": "code",
   "execution_count": 1,
   "metadata": {},
   "outputs": [],
   "source": [
    "from utils import plot_compare_acc, plot_compare_loss, plot_compare_error"
   ]
  },
  {
   "cell_type": "code",
   "execution_count": 2,
   "metadata": {},
   "outputs": [],
   "source": [
    "train_losses = []\n",
    "train_accs = []\n",
    "valid_losses = []\n",
    "valid_accs = []\n",
    "top1_errors = []\n",
    "top5_errors = []"
   ]
  },
  {
   "cell_type": "code",
   "execution_count": 3,
   "metadata": {},
   "outputs": [],
   "source": [
    "import pickle\n",
    "\n",
    "with open('/workspace/resnet/hypothesis/outputs/2025-02-24/11-05-08_plain_n3/training_results.pkl', 'rb') as f:  # 저장한 파일 이름으로 변경하세요.\n",
    "    data = pickle.load(f)\n",
    "\n",
    "train_losses.append(data['train_losses'])\n",
    "train_accs.append(data['train_accs'])\n",
    "valid_losses.append(data['valid_losses'])\n",
    "valid_accs.append(data['valid_accs'])\n",
    "top1_errors.append(data['top1_error'])\n",
    "top5_errors.append(data['top5_error'])"
   ]
  },
  {
   "cell_type": "code",
   "execution_count": 4,
   "metadata": {},
   "outputs": [],
   "source": [
    "with open('/workspace/resnet/hypothesis/outputs/2025-02-24/11-23-15_plain_n5/training_results.pkl', 'rb') as f:  # 저장한 파일 이름으로 변경하세요.\n",
    "    data = pickle.load(f)\n",
    "\n",
    "train_losses.append(data['train_losses'])\n",
    "train_accs.append(data['train_accs'])\n",
    "valid_losses.append(data['valid_losses'])\n",
    "valid_accs.append(data['valid_accs'])\n",
    "top1_errors.append(data['top1_error'])\n",
    "top5_errors.append(data['top5_error'])"
   ]
  },
  {
   "cell_type": "code",
   "execution_count": 5,
   "metadata": {},
   "outputs": [],
   "source": [
    "with open('/workspace/resnet/hypothesis/outputs/2025-02-24/19-12-25_resnet_n3/training_results.pkl', 'rb') as f:  # 저장한 파일 이름으로 변경하세요.\n",
    "    data = pickle.load(f)\n",
    "\n",
    "train_losses.append(data['train_losses'])\n",
    "train_accs.append(data['train_accs'])\n",
    "valid_losses.append(data['valid_losses'])\n",
    "valid_accs.append(data['valid_accs'])\n",
    "top1_errors.append(data['top1_error'])\n",
    "top5_errors.append(data['top5_error'])"
   ]
  },
  {
   "cell_type": "code",
   "execution_count": 6,
   "metadata": {},
   "outputs": [],
   "source": [
    "with open('/workspace/resnet/hypothesis/outputs/2025-02-24/19-35-17_resnet_n5/training_results.pkl', 'rb') as f:  # 저장한 파일 이름으로 변경하세요.\n",
    "    data = pickle.load(f)\n",
    "\n",
    "train_losses.append(data['train_losses'])\n",
    "train_accs.append(data['train_accs'])\n",
    "valid_losses.append(data['valid_losses'])\n",
    "valid_accs.append(data['valid_accs'])\n",
    "top1_errors.append(data['top1_error'])\n",
    "top5_errors.append(data['top5_error'])"
   ]
  },
  {
   "cell_type": "code",
   "execution_count": 7,
   "metadata": {},
   "outputs": [],
   "source": [
    "labels = ['plain n=3', 'plain n=5', 'resnet n=3', 'resnet n=5']"
   ]
  },
  {
   "cell_type": "code",
   "execution_count": 8,
   "metadata": {},
   "outputs": [
    {
     "data": {
      "text/plain": [
       "<Figure size 1000x600 with 0 Axes>"
      ]
     },
     "metadata": {},
     "output_type": "display_data"
    },
    {
     "data": {
      "text/plain": [
       "<Figure size 1000x600 with 0 Axes>"
      ]
     },
     "metadata": {},
     "output_type": "display_data"
    },
    {
     "data": {
      "text/plain": [
       "<Figure size 1000x600 with 0 Axes>"
      ]
     },
     "metadata": {},
     "output_type": "display_data"
    },
    {
     "data": {
      "text/plain": [
       "<Figure size 1000x600 with 0 Axes>"
      ]
     },
     "metadata": {},
     "output_type": "display_data"
    },
    {
     "data": {
      "text/plain": [
       "<Figure size 800x600 with 0 Axes>"
      ]
     },
     "metadata": {},
     "output_type": "display_data"
    },
    {
     "data": {
      "text/plain": [
       "<Figure size 800x600 with 0 Axes>"
      ]
     },
     "metadata": {},
     "output_type": "display_data"
    }
   ],
   "source": [
    "plot_compare_loss(data=train_losses, labels=labels, save_path='train_loss.jpg', title='Compare Train Loss')\n",
    "plot_compare_loss(data=valid_losses, labels=labels, save_path='valid_loss.jpg', title='Compare Valid Train Loss')\n",
    "plot_compare_acc(data=train_accs, labels=labels, save_path='train_acc.jpg', title='Compare Train Acc')\n",
    "plot_compare_acc(data=valid_accs, labels=labels, save_path='valid_acc.jpg', title='Compare Valid Acc')\n",
    "plot_compare_error(errors=top1_errors, labels=labels, save_path='top1_error.jpg', title='Compare Top1 Error')\n",
    "plot_compare_error(errors=top5_errors, labels=labels, save_path='top5_error.jpg', title='Compare Top5 Error')"
   ]
  }
 ],
 "metadata": {
  "kernelspec": {
   "display_name": "Python 3",
   "language": "python",
   "name": "python3"
  },
  "language_info": {
   "codemirror_mode": {
    "name": "ipython",
    "version": 3
   },
   "file_extension": ".py",
   "mimetype": "text/x-python",
   "name": "python",
   "nbconvert_exporter": "python",
   "pygments_lexer": "ipython3",
   "version": "3.10.12"
  }
 },
 "nbformat": 4,
 "nbformat_minor": 2
}
